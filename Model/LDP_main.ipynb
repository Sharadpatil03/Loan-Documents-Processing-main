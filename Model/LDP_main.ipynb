{
  "nbformat": 4,
  "nbformat_minor": 0,
  "metadata": {
    "colab": {
      "provenance": [],
      "gpuType": "T4"
    },
    "kernelspec": {
      "name": "python3",
      "display_name": "Python 3"
    },
    "language_info": {
      "name": "python"
    },
    "accelerator": "GPU"
  },
  "cells": [
    {
      "cell_type": "code",
      "execution_count": null,
      "metadata": {
        "id": "0-i44sAL4bg8"
      },
      "outputs": [],
      "source": [
        "!pip install -q -U google-generativeai"
      ]
    },
    {
      "cell_type": "code",
      "source": [
        "import pathlib\n",
        "import textwrap\n",
        "\n",
        "import google.generativeai as genai\n",
        "\n",
        "from IPython.display import display\n",
        "from IPython.display import Markdown\n",
        "\n",
        "\n",
        "def to_markdown(text):\n",
        "  text = text.replace('•', '  *')\n",
        "  return Markdown(textwrap.indent(text, '> ', predicate=lambda _: True))"
      ],
      "metadata": {
        "id": "sL9vRSOm4mlq"
      },
      "execution_count": 1,
      "outputs": []
    },
    {
      "cell_type": "code",
      "source": [
        "from google.colab import userdata"
      ],
      "metadata": {
        "id": "A_aThbE04ms-"
      },
      "execution_count": 2,
      "outputs": []
    },
    {
      "cell_type": "code",
      "source": [
        "GOOGLE_API_KEY=userdata.get('Gemini_key')\n",
        "\n",
        "genai.configure(api_key=GOOGLE_API_KEY)"
      ],
      "metadata": {
        "id": "XUdOYMmG4zaI"
      },
      "execution_count": 3,
      "outputs": []
    },
    {
      "cell_type": "code",
      "source": [
        "model = genai.GenerativeModel(model_name='gemini-1.5-flash',system_instruction=\"You are the professional Loan Document Analyzer Your Job is To find the Inconsistencies and discrepencies \")"
      ],
      "metadata": {
        "id": "wV7MlEfk41n8"
      },
      "execution_count": 4,
      "outputs": []
    },
    {
      "cell_type": "markdown",
      "source": [
        "<h1>Fucntion to convert image into text with GenAI</h1>"
      ],
      "metadata": {
        "id": "tdu_F8VS6F2X"
      }
    },
    {
      "cell_type": "code",
      "source": [
        "import PIL.Image\n",
        "\n",
        "def img_to_text(Image_path):\n",
        "  img = PIL.Image.open(Image_path)\n",
        "  #img = PIL.Image.open('new1.jpg')\n",
        "  model = genai.GenerativeModel('gemini-1.5-flash')\n",
        "  response = model.generate_content([\"correct the text\", img])\n",
        "  return to_markdown(response.text)"
      ],
      "metadata": {
        "id": "nbIGDrS-44S8"
      },
      "execution_count": 5,
      "outputs": []
    },
    {
      "cell_type": "code",
      "source": [
        "image_path= \"IMG_5092.jpg\"\n",
        "text1=img_to_text(image_path)\n"
      ],
      "metadata": {
        "id": "EMyhvijf56YY"
      },
      "execution_count": 6,
      "outputs": []
    },
    {
      "cell_type": "code",
      "source": [
        "text1"
      ],
      "metadata": {
        "id": "B-0d7ZiD6CG_",
        "colab": {
          "base_uri": "https://localhost:8080/",
          "height": 237
        },
        "outputId": "996b2414-ecbd-4654-c7ed-90bb2a8fc0e5"
      },
      "execution_count": 7,
      "outputs": [
        {
          "output_type": "execute_result",
          "data": {
            "text/plain": [
              "<IPython.core.display.Markdown object>"
            ],
            "text/markdown": "> ## आयकर विभाग\n> **INCOME TAX DEPARTMENT**\n> <br>\n> **भारत सरकार**\n> **GOVT. OF INDIA**\n> <br>\n> स्थायी खाता संख्या कार्ड\n> Permanent Account Number Card\n> <br>\n> GTJPD8950E\n> <br>\n> नाम/ Name\n> **DHYANESH SUDHIR DIKKAR**\n> <br>\n> पिता का नाम/ Father's Name\n> **SUDHIR PURUSHOTTAM DIKKAR**\n> <br>\n> जन्म तिथि/ Date of Birth\n> 05/12/2003\n> <br>\n> PAN Application Digitally Signed, Card not Valid unless Physically Signed\n> 20092023\n> <br>\n> Dhyanesh\n"
          },
          "metadata": {},
          "execution_count": 7
        }
      ]
    },
    {
      "cell_type": "code",
      "source": [
        "from google.colab import drive\n",
        "drive.mount('/content/drive')"
      ],
      "metadata": {
        "id": "03AwoTryEb0t"
      },
      "execution_count": null,
      "outputs": []
    },
    {
      "cell_type": "markdown",
      "source": [
        "<h1>Fucntion to PDF docs into Text with GenAI</h1>"
      ],
      "metadata": {
        "id": "t2TngW_l6U9A"
      }
    },
    {
      "cell_type": "code",
      "source": [
        "pip install PyMupdf"
      ],
      "metadata": {
        "colab": {
          "base_uri": "https://localhost:8080/"
        },
        "id": "n7RUT1AJDt6e",
        "outputId": "406b7285-1510-4eed-f5f0-6bba7834ecc3"
      },
      "execution_count": 8,
      "outputs": [
        {
          "output_type": "stream",
          "name": "stdout",
          "text": [
            "Collecting PyMupdf\n",
            "  Downloading PyMuPDF-1.24.9-cp310-none-manylinux2014_x86_64.whl.metadata (3.4 kB)\n",
            "Collecting PyMuPDFb==1.24.9 (from PyMupdf)\n",
            "  Downloading PyMuPDFb-1.24.9-py3-none-manylinux2014_x86_64.manylinux_2_17_x86_64.whl.metadata (1.4 kB)\n",
            "Downloading PyMuPDF-1.24.9-cp310-none-manylinux2014_x86_64.whl (3.5 MB)\n",
            "\u001b[?25l   \u001b[90m━━━━━━━━━━━━━━━━━━━━━━━━━━━━━━━━━━━━━━━━\u001b[0m \u001b[32m0.0/3.5 MB\u001b[0m \u001b[31m?\u001b[0m eta \u001b[36m-:--:--\u001b[0m\r\u001b[2K   \u001b[91m━━━━━━━━━━━━━━━━━━━━━━━━━━━━━━━━━━━━━━━\u001b[0m\u001b[91m╸\u001b[0m \u001b[32m3.5/3.5 MB\u001b[0m \u001b[31m113.4 MB/s\u001b[0m eta \u001b[36m0:00:01\u001b[0m\r\u001b[2K   \u001b[90m━━━━━━━━━━━━━━━━━━━━━━━━━━━━━━━━━━━━━━━━\u001b[0m \u001b[32m3.5/3.5 MB\u001b[0m \u001b[31m62.8 MB/s\u001b[0m eta \u001b[36m0:00:00\u001b[0m\n",
            "\u001b[?25hDownloading PyMuPDFb-1.24.9-py3-none-manylinux2014_x86_64.manylinux_2_17_x86_64.whl (15.9 MB)\n",
            "\u001b[2K   \u001b[90m━━━━━━━━━━━━━━━━━━━━━━━━━━━━━━━━━━━━━━━━\u001b[0m \u001b[32m15.9/15.9 MB\u001b[0m \u001b[31m68.8 MB/s\u001b[0m eta \u001b[36m0:00:00\u001b[0m\n",
            "\u001b[?25hInstalling collected packages: PyMuPDFb, PyMupdf\n",
            "Successfully installed PyMuPDFb-1.24.9 PyMupdf-1.24.9\n"
          ]
        }
      ]
    },
    {
      "cell_type": "code",
      "source": [
        "import fitz\n",
        "\n",
        "def extract_text_from_pdf(pdf_path):\n",
        "    # Open the PDF file\n",
        "    document = fitz.open(pdf_path)\n",
        "\n",
        "    # Initialize an empty string to hold the extracted text\n",
        "    text = \"\"\n",
        "\n",
        "    # Iterate through each page in the PDF\n",
        "    for page_num in range(len(document)):\n",
        "        page = document.load_page(page_num)  # Load the page\n",
        "        text += page.get_text()  # Extract the text from the page\n",
        "\n",
        "    # Close the document\n",
        "    document.close()\n",
        "    model = genai.GenerativeModel('gemini-1.5-flash')\n",
        "    response = model.generate_content([\"correct the text adn return in plain string\", text])\n",
        "    return text"
      ],
      "metadata": {
        "id": "ObZPD3ik6tzV"
      },
      "execution_count": 9,
      "outputs": []
    },
    {
      "cell_type": "code",
      "source": [
        "pdf_path = 'Project_ideas.pdf'\n",
        "text2=extract_text_from_pdf(pdf_path)\n",
        "# Ensure text1 and text2 are strings\n",
        "\n",
        "\n",
        "# Concatenate the strings\n",
        "#input_text = \"You have given the document information of the user you have to give me Inconsistencies and Discrepancies in the document as we know this document is for loan so following is the information and\n"
      ],
      "metadata": {
        "id": "2xo7Jhgi7Ak_"
      },
      "execution_count": 10,
      "outputs": []
    },
    {
      "cell_type": "code",
      "source": [
        "if text1 is not None or text2 is not None:\n",
        "    extracted_text = str(text1 or '') + str(text2 or '')\n",
        "    with open(\"extracted_text.txt\", \"a\") as f:\n",
        "      f.write(extracted_text + \"\\n\")\n",
        "\n"
      ],
      "metadata": {
        "id": "zmwEktBJYcen"
      },
      "execution_count": 13,
      "outputs": []
    },
    {
      "cell_type": "code",
      "source": [],
      "metadata": {
        "id": "ddxENNCEawsj"
      },
      "execution_count": null,
      "outputs": []
    },
    {
      "cell_type": "code",
      "source": [
        "generate_response=model.generate_content(\"You have given the documnet information of the user you have to give me Inconsitencies and Discrepencies in the document as a Loan document Analyzer.\"+extracted_text)\n",
        "print(generate_response.text)"
      ],
      "metadata": {
        "colab": {
          "base_uri": "https://localhost:8080/",
          "height": 251
        },
        "id": "WTTSRjt24vOK",
        "outputId": "e1987ecb-14d9-4ba8-a41b-22ecfd3f4caf"
      },
      "execution_count": 15,
      "outputs": [
        {
          "output_type": "stream",
          "name": "stdout",
          "text": [
            "It seems like you've provided a list of project ideas and detailed step-by-step guides for developing AI-powered platforms. These guides are great for understanding the overall development process, but they don't contain specific loan document information. \n",
            "\n",
            "To analyze loan document inconsistencies and discrepancies, I need the actual loan document content.  Please provide me with the document itself (or a snippet of relevant information) so I can help you identify any problems. \n",
            "\n",
            "For example, tell me:\n",
            "\n",
            "* **What kind of loan document is it?** (e.g., mortgage loan, personal loan, auto loan)\n",
            "* **What are the specific details you're concerned about?** (e.g., interest rates, loan terms, borrower information)\n",
            "* **What format is the document in?** (e.g., PDF, Word document, image)\n",
            "\n",
            "Once you provide this information, I can analyze the loan document for inconsistencies and discrepancies and provide you with specific insights. \n",
            "\n"
          ]
        }
      ]
    },
    {
      "cell_type": "code",
      "source": [],
      "metadata": {
        "id": "WYsO6YnaAs09"
      },
      "execution_count": null,
      "outputs": []
    }
  ]
}