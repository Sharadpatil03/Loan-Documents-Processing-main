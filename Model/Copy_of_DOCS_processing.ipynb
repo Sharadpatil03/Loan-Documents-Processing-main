{
  "nbformat": 4,
  "nbformat_minor": 0,
  "metadata": {
    "colab": {
      "provenance": [],
      "authorship_tag": "ABX9TyMpPHNmXhBRhPuUyn1ik9uW",
      "include_colab_link": true
    },
    "kernelspec": {
      "name": "python3",
      "display_name": "Python 3"
    },
    "language_info": {
      "name": "python"
    }
  },
  "cells": [
    {
      "cell_type": "markdown",
      "metadata": {
        "id": "view-in-github",
        "colab_type": "text"
      },
      "source": [
        "<a href=\"https://colab.research.google.com/github/DhyaneshSD/Loan-Documents-Processing/blob/main/Copy_of_DOCS_processing.ipynb\" target=\"_parent\"><img src=\"https://colab.research.google.com/assets/colab-badge.svg\" alt=\"Open In Colab\"/></a>"
      ]
    },
    {
      "cell_type": "code",
      "execution_count": null,
      "metadata": {
        "id": "0-i44sAL4bg8"
      },
      "outputs": [],
      "source": [
        "!pip install -q -U google-generativeai"
      ]
    },
    {
      "cell_type": "code",
      "source": [
        "import pathlib\n",
        "import textwrap\n",
        "\n",
        "import google.generativeai as genai\n",
        "\n",
        "from IPython.display import display\n",
        "from IPython.display import Markdown\n",
        "\n",
        "\n",
        "def to_markdown(text):\n",
        "  text = text.replace('•', '  *')\n",
        "  return Markdown(textwrap.indent(text, '> ', predicate=lambda _: True))"
      ],
      "metadata": {
        "id": "sL9vRSOm4mlq"
      },
      "execution_count": null,
      "outputs": []
    },
    {
      "cell_type": "code",
      "source": [
        "from google.colab import userdata"
      ],
      "metadata": {
        "id": "A_aThbE04ms-"
      },
      "execution_count": null,
      "outputs": []
    },
    {
      "cell_type": "code",
      "source": [
        "GOOGLE_API_KEY=userdata.get('Gemini_key')\n",
        "\n",
        "genai.configure(api_key=GOOGLE_API_KEY)"
      ],
      "metadata": {
        "id": "XUdOYMmG4zaI"
      },
      "execution_count": null,
      "outputs": []
    },
    {
      "cell_type": "code",
      "source": [
        "model = genai.GenerativeModel('gemini-1.5-flash')"
      ],
      "metadata": {
        "id": "wV7MlEfk41n8"
      },
      "execution_count": null,
      "outputs": []
    },
    {
      "cell_type": "markdown",
      "source": [
        "<h1>Fucntion to convert image into text with GenAI</h1>"
      ],
      "metadata": {
        "id": "tdu_F8VS6F2X"
      }
    },
    {
      "cell_type": "code",
      "source": [
        "import PIL.Image\n",
        "\n",
        "def img_to_text(Image_path):\n",
        "  img = PIL.Image.open(Image_path)\n",
        "  #img = PIL.Image.open('new1.jpg')\n",
        "  model = genai.GenerativeModel('gemini-1.5-flash')\n",
        "  response = model.generate_content([\"correct the text\", img])\n",
        "  return to_markdown(response.text)"
      ],
      "metadata": {
        "id": "nbIGDrS-44S8"
      },
      "execution_count": null,
      "outputs": []
    },
    {
      "cell_type": "code",
      "source": [
        "image_path= \"new1.jpg\"\n",
        "img_to_text(image_path)"
      ],
      "metadata": {
        "colab": {
          "base_uri": "https://localhost:8080/",
          "height": 237
        },
        "id": "EMyhvijf56YY",
        "outputId": "0f430422-ce29-44ae-d779-9eebd41ce413"
      },
      "execution_count": null,
      "outputs": [
        {
          "output_type": "execute_result",
          "data": {
            "text/plain": [
              "<IPython.core.display.Markdown object>"
            ],
            "text/markdown": "> **Data Handling and Storage:** Ensure that any data sent to the model is handled securely. OpenAI may store and use data sent to the model to improve their services unless a data usage agreement specifies otherwise.\n> \n> **Encryption:** Use encryption for data in transit (e.g., HTTPS) to protect against interception.\n> \n> **Compliance:** Verify that using OpenAI's services complies with relevant regulations and industry standards (e.g., GDPR, HIPAA).\n> \n> **Access Controls:** Implement strong access controls and authentication measures to restrict who can interact with the model and access data.\n> \n> **Data Anonymization:** Anonymize sensitive data before sending it to the model to reduce the risk of exposure.\n> \n> **Custom Deployments:** For highly sensitive applications, consider using OpenAI's models via a dedicated instance or in a manner where the data does not leave your environment.\n> \n> **Audit and Monitoring:** Regularly audit and monitor the use of the AI model to detect any unauthorized access or data breaches. \n"
          },
          "metadata": {},
          "execution_count": 6
        }
      ]
    },
    {
      "cell_type": "code",
      "source": [],
      "metadata": {
        "id": "B-0d7ZiD6CG_"
      },
      "execution_count": null,
      "outputs": []
    },
    {
      "cell_type": "markdown",
      "source": [
        "<h1>Fucntion to PDF docs into Text with GenAI</h1>"
      ],
      "metadata": {
        "id": "t2TngW_l6U9A"
      }
    },
    {
      "cell_type": "code",
      "source": [
        "!pip install PyMuPDF"
      ],
      "metadata": {
        "id": "F5a5stKf6hpD"
      },
      "execution_count": null,
      "outputs": []
    },
    {
      "cell_type": "code",
      "source": [
        "import fitz\n",
        "\n",
        "def extract_text_from_pdf(pdf_path):\n",
        "    # Open the PDF file\n",
        "    document = fitz.open(pdf_path)\n",
        "\n",
        "    # Initialize an empty string to hold the extracted text\n",
        "    text = \"\"\n",
        "\n",
        "    # Iterate through each page in the PDF\n",
        "    for page_num in range(len(document)):\n",
        "        page = document.load_page(page_num)  # Load the page\n",
        "        text += page.get_text()  # Extract the text from the page\n",
        "\n",
        "    # Close the document\n",
        "    document.close()\n",
        "    model = genai.GenerativeModel('gemini-1.5-flash')\n",
        "    response = model.generate_content([\"correct the text adn return in plain string\", text])\n",
        "    return text"
      ],
      "metadata": {
        "id": "ObZPD3ik6tzV"
      },
      "execution_count": null,
      "outputs": []
    },
    {
      "cell_type": "code",
      "source": [
        "pdf_path = 'LDP_1.pdf'\n",
        "extract_text_from_pdf(pdf_path)"
      ],
      "metadata": {
        "colab": {
          "base_uri": "https://localhost:8080/",
          "height": 178
        },
        "id": "2xo7Jhgi7Ak_",
        "outputId": "7d35b34b-fec6-46d6-922d-e5959373bee8"
      },
      "execution_count": null,
      "outputs": [
        {
          "output_type": "execute_result",
          "data": {
            "text/plain": [
              "'LOAN DOCUMENT PROCESSING : \\nQ]Is using openai gpt 4 secure for data of industrial applications? \\nANS:-  \\nData Handling and Storage: Ensure that any data sent to the model is handled securely. OpenAI \\nmay store and use data sent to the model to improve their services unless a data usage agreement \\nspecifies otherwise.\\nEncryption: Use encryption for data in transit (e.g., HTTPS) to protect against interception.\\nCompliance: Verify that using OpenAI’s services complies with relevant regulations and industry \\nstandards (e.g., GDPR, HIPAA).\\nAccess Controls: Implement strong access controls and authentication measures to restrict who can \\ninteract with the model and access data.\\nData Anonymization: Anonymize sensitive data before sending it to the model to reduce the risk of \\nexposure.\\nCustom Deployments: For highly sensitive applications, consider using OpenAI’s models via a \\ndedicated instance or in a manner where the data does not leave your environment.\\nAudit and Monitoring: Regularly audit and monitor the use of the AI model to detect any \\nunauthorized access or data breaches.\\n'"
            ],
            "application/vnd.google.colaboratory.intrinsic+json": {
              "type": "string"
            }
          },
          "metadata": {},
          "execution_count": 17
        }
      ]
    },
    {
      "cell_type": "code",
      "source": [],
      "metadata": {
        "id": "HIupIs2L8R8c"
      },
      "execution_count": null,
      "outputs": []
    }
  ]
}